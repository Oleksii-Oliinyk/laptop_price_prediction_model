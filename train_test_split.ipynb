{
 "cells": [
  {
   "cell_type": "code",
   "execution_count": 1,
   "metadata": {},
   "outputs": [],
   "source": [
    "import pandas as pd\n",
    "from sklearn.model_selection import train_test_split"
   ]
  },
  {
   "cell_type": "code",
   "execution_count": 2,
   "metadata": {},
   "outputs": [],
   "source": [
    "ds = pd.read_csv(\"laptop_prices.csv\")"
   ]
  },
  {
   "cell_type": "code",
   "execution_count": 3,
   "metadata": {},
   "outputs": [
    {
     "data": {
      "text/plain": [
       "Index(['Company', 'Product', 'TypeName', 'Inches', 'Ram', 'OS', 'Weight',\n",
       "       'Price_euros', 'Screen', 'ScreenW', 'ScreenH', 'Touchscreen',\n",
       "       'IPSpanel', 'RetinaDisplay', 'CPU_company', 'CPU_freq', 'CPU_model',\n",
       "       'PrimaryStorage', 'SecondaryStorage', 'PrimaryStorageType',\n",
       "       'SecondaryStorageType', 'GPU_company', 'GPU_model'],\n",
       "      dtype='object')"
      ]
     },
     "execution_count": 3,
     "metadata": {},
     "output_type": "execute_result"
    }
   ],
   "source": [
    "ds.columns"
   ]
  },
  {
   "cell_type": "code",
   "execution_count": 9,
   "metadata": {},
   "outputs": [],
   "source": [
    "X_columns = ['Company', \n",
    "             'Product', \n",
    "             'TypeName', \n",
    "             'Inches', \n",
    "             'Ram', \n",
    "             'OS', \n",
    "             'Weight',\n",
    "             'Screen', \n",
    "             'ScreenW', \n",
    "             'ScreenH', \n",
    "             'Touchscreen',\n",
    "             'IPSpanel', \n",
    "             'RetinaDisplay', \n",
    "             'CPU_company', \n",
    "             'CPU_freq', \n",
    "             'CPU_model',\n",
    "             'PrimaryStorage', \n",
    "             'SecondaryStorage', \n",
    "             'PrimaryStorageType',\n",
    "             'SecondaryStorageType', \n",
    "             'GPU_company', \n",
    "             'GPU_model']"
   ]
  },
  {
   "cell_type": "code",
   "execution_count": 4,
   "metadata": {},
   "outputs": [
    {
     "name": "stdout",
     "output_type": "stream",
     "text": [
      "<class 'pandas.core.frame.DataFrame'>\n",
      "RangeIndex: 1275 entries, 0 to 1274\n",
      "Data columns (total 23 columns):\n",
      " #   Column                Non-Null Count  Dtype  \n",
      "---  ------                --------------  -----  \n",
      " 0   Company               1275 non-null   object \n",
      " 1   Product               1275 non-null   object \n",
      " 2   TypeName              1275 non-null   object \n",
      " 3   Inches                1275 non-null   float64\n",
      " 4   Ram                   1275 non-null   int64  \n",
      " 5   OS                    1275 non-null   object \n",
      " 6   Weight                1275 non-null   float64\n",
      " 7   Price_euros           1275 non-null   float64\n",
      " 8   Screen                1275 non-null   object \n",
      " 9   ScreenW               1275 non-null   int64  \n",
      " 10  ScreenH               1275 non-null   int64  \n",
      " 11  Touchscreen           1275 non-null   object \n",
      " 12  IPSpanel              1275 non-null   object \n",
      " 13  RetinaDisplay         1275 non-null   object \n",
      " 14  CPU_company           1275 non-null   object \n",
      " 15  CPU_freq              1275 non-null   float64\n",
      " 16  CPU_model             1275 non-null   object \n",
      " 17  PrimaryStorage        1275 non-null   int64  \n",
      " 18  SecondaryStorage      1275 non-null   int64  \n",
      " 19  PrimaryStorageType    1275 non-null   object \n",
      " 20  SecondaryStorageType  1275 non-null   object \n",
      " 21  GPU_company           1275 non-null   object \n",
      " 22  GPU_model             1275 non-null   object \n",
      "dtypes: float64(4), int64(5), object(14)\n",
      "memory usage: 229.2+ KB\n"
     ]
    }
   ],
   "source": [
    "ds.info()"
   ]
  },
  {
   "cell_type": "code",
   "execution_count": 5,
   "metadata": {},
   "outputs": [],
   "source": [
    "X_train, X_test = train_test_split(ds, train_size=0.9)"
   ]
  },
  {
   "cell_type": "code",
   "execution_count": 6,
   "metadata": {},
   "outputs": [],
   "source": [
    "X_train.to_csv('train_data.csv', index=False)"
   ]
  },
  {
   "cell_type": "code",
   "execution_count": 14,
   "metadata": {},
   "outputs": [
    {
     "name": "stdout",
     "output_type": "stream",
     "text": [
      "Number of train entries: 1147\n"
     ]
    }
   ],
   "source": [
    "print(\"Number of train entries:\", X_train.shape[0])"
   ]
  },
  {
   "cell_type": "code",
   "execution_count": 10,
   "metadata": {},
   "outputs": [],
   "source": [
    "X_test[X_columns].to_csv('test_data.csv', index=False)"
   ]
  },
  {
   "cell_type": "code",
   "execution_count": 15,
   "metadata": {},
   "outputs": [
    {
     "name": "stdout",
     "output_type": "stream",
     "text": [
      "Number of test entries: 128\n"
     ]
    }
   ],
   "source": [
    "print(\"Number of test entries:\", X_test.shape[0])"
   ]
  }
 ],
 "metadata": {
  "kernelspec": {
   "display_name": "Python 3",
   "language": "python",
   "name": "python3"
  },
  "language_info": {
   "codemirror_mode": {
    "name": "ipython",
    "version": 3
   },
   "file_extension": ".py",
   "mimetype": "text/x-python",
   "name": "python",
   "nbconvert_exporter": "python",
   "pygments_lexer": "ipython3",
   "version": "3.12.6"
  }
 },
 "nbformat": 4,
 "nbformat_minor": 2
}
